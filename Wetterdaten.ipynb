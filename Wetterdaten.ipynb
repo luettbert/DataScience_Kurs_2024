{
 "cells": [
  {
   "cell_type": "code",
   "execution_count": 18,
   "metadata": {},
   "outputs": [
    {
     "name": "stdout",
     "output_type": "stream",
     "text": [
      "Datei erfolgreich heruntergeladen und gespeichert.\n",
      "Die Durchschnittstemperatur über den gesamten betrachteten Zeitraum beträgt: 12.10 °C\n",
      "Die Durchschnittstemperatur zwischen 2012-07-01 und 2012-07-31 beträgt: 18.63 °C\n",
      "Die Durchschnittstemperatur zwischen 2012-05-01 und 2012-05-31 beträgt: 15.13 °C\n",
      "Die Durchschnittstemperatur im Juli ist um 3.5K höher als im Mai.\n"
     ]
    }
   ],
   "source": [
    "import requests\n",
    "import pandas as pd\n",
    "from scipy.stats import ttest_ind\n",
    "\n",
    "# URL der CSV-Datei\n",
    "url = 'https://raw.githubusercontent.com/opencampus-sh/einfuehrung-in-data-science-und-ml/main/wetter.csv'\n",
    "    \n",
    "def csv_download(url):\n",
    "    # Lade die Datei herunter\n",
    "    response = requests.get(url)\n",
    "\n",
    "    # Überprüfe, ob der Download erfolgreich war\n",
    "    if response.status_code == 200:\n",
    "        # Speichern der Datei auf der Festplatte\n",
    "        with open('wetterdaten.csv', 'wb') as file:\n",
    "            file.write(response.content)\n",
    "        print(\"Datei erfolgreich heruntergeladen und gespeichert.\")\n",
    "\n",
    "        # Lade die CSV-Datei in ein pandas DataFrame\n",
    "        df_wetterdaten = pd.read_csv('wetterdaten.csv')\n",
    "\n",
    "        # Zeige die ersten 5 Zeilen an\n",
    "        # print(df_wetterdaten.head())\n",
    "\n",
    "    else:\n",
    "        print(f\"Fehler beim Download. Status-Code: {response.status_code}\")\n",
    "        \n",
    "    return df_wetterdaten\n",
    "\n",
    "\n",
    "def durchschnittberechnen_spalte(wetterdaten, spaltenName):\n",
    "    durchschnitt = wetterdaten[spaltenName].mean()\n",
    "    return durchschnitt\n",
    "\n",
    "\n",
    "df_wetterdaten = csv_download(url)\n",
    "\n",
    "# Bestimmen der Durchschnittstemperatur des betrachteten Zeitraumes\n",
    "temperaturDurchschnitt = durchschnittberechnen_spalte(df_wetterdaten, 'Temperatur')\n",
    "print(f\"Die Durchschnittstemperatur über den gesamten betrachteten Zeitraum beträgt: {temperaturDurchschnitt:.2f} °C\")\n",
    "\n",
    "# Bestimmen der Durchschnittstemperatur von 1.7. bis 31.7.\n",
    "# Definiere den gewünschten Zeitraum\n",
    "start_datum = '2012-07-01'\n",
    "end_datum = '2012-07-31'\n",
    "# Filtere die Zeilen, die in diesen Zeitraum fallen\n",
    "df_juli = df_wetterdaten[(df_wetterdaten['Datum'] >= start_datum) & (df_wetterdaten['Datum'] <= end_datum)]\n",
    "temperaturDurchschnitt_Zeitraum_Juli = durchschnittberechnen_spalte(df_juli, 'Temperatur')\n",
    "print(f\"Die Durchschnittstemperatur zwischen {start_datum} und {end_datum} beträgt: {temperaturDurchschnitt_Zeitraum_Juli:.2f} °C\")\n",
    "\n",
    "\n",
    "# Bestimmen der Durchschnittstemperatur von 1.5. bis 31.5.\n",
    "# Definiere den gewünschten Zeitraum\n",
    "start_datum = '2012-05-01'\n",
    "end_datum = '2012-05-31'\n",
    "# Filtere die Zeilen, die in diesen Zeitraum fallen\n",
    "df_mai = df_wetterdaten[(df_wetterdaten['Datum'] >= start_datum) & (df_wetterdaten['Datum'] <= end_datum)]\n",
    "temperaturDurchschnitt_Zeitraum_Mai = durchschnittberechnen_spalte(df_mai, 'Temperatur')\n",
    "print(f\"Die Durchschnittstemperatur zwischen {start_datum} und {end_datum} beträgt: {temperaturDurchschnitt_Zeitraum_Mai:.2f} °C\")\n",
    "\n",
    "\n",
    "# Berechne die Differenz der Durchschnittstemperaturen\n",
    "differenz = temperaturDurchschnitt_Zeitraum_Juli - temperaturDurchschnitt_Zeitraum_Mai\n",
    "\n",
    "# Interpretation\n",
    "if differenz > 0:\n",
    "    print(f\"Die Durchschnittstemperatur im Juli ist um {differenz:.1f}K höher als im Mai.\")\n",
    "elif differenz < 0:\n",
    "    print(f\"Die Durchschnittstemperatur im Mai ist um {differenz:.1f}K höher als im Juli.\")\n",
    "else:\n",
    "    print(\"Die Durchschnittstemperaturen im Mai und Juli sind gleich.\")\n",
    "\n",
    "\n",
    "\n",
    "    "
   ]
  },
  {
   "cell_type": "code",
   "execution_count": 4,
   "metadata": {},
   "outputs": [
    {
     "name": "stdout",
     "output_type": "stream",
     "text": [
      "           Datum  Bewoelkung  Temperatur  Windgeschwindigkeit  Wettercode\n",
      "0     2012-01-01         8.0      9.8250                   14        58.0\n",
      "1     2012-01-02         7.0      7.4375                   12         NaN\n",
      "2     2012-01-03         8.0      5.5375                   18        63.0\n",
      "3     2012-01-04         4.0      5.6875                   19        80.0\n",
      "4     2012-01-05         6.0      5.3000                   23        80.0\n",
      "...          ...         ...         ...                  ...         ...\n",
      "2596  2019-07-28         3.0     23.3500                   14         5.0\n",
      "2597  2019-07-29         6.0     25.2500                    7        61.0\n",
      "2598  2019-07-30         7.0     20.7375                    8        61.0\n",
      "2599  2019-07-31         6.0     20.4500                    7        61.0\n",
      "2600  2019-08-01         5.0     21.0625                    9        61.0\n",
      "\n",
      "[2601 rows x 5 columns]\n"
     ]
    }
   ],
   "source": [
    "import pandas as pd\n",
    "\n",
    "wetter_csv = pd.read_csv(\"wetterdaten.csv\")\n",
    "wetter_csv = pd.DataFrame(wetter_csv)\n",
    "print(wetter_csv)"
   ]
  }
 ],
 "metadata": {
  "kernelspec": {
   "display_name": "Python 3",
   "language": "python",
   "name": "python3"
  },
  "language_info": {
   "codemirror_mode": {
    "name": "ipython",
    "version": 3
   },
   "file_extension": ".py",
   "mimetype": "text/x-python",
   "name": "python",
   "nbconvert_exporter": "python",
   "pygments_lexer": "ipython3",
   "version": "3.12.1"
  }
 },
 "nbformat": 4,
 "nbformat_minor": 2
}
